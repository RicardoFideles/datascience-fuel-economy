{
 "cells": [
  {
   "cell_type": "markdown",
   "metadata": {
    "collapsed": true
   },
   "source": [
    "# Inspecionando tipos de dados\n",
    "Use o espaço abaixo para explorar os arquivos `data_08.csv` e `data_18.csv` para responder às perguntas do teste abaixo sobre tipos de dados."
   ]
  },
  {
   "cell_type": "code",
   "execution_count": 1,
   "metadata": {},
   "outputs": [],
   "source": [
    "import pandas as pd\n",
    "import numpy as np\n",
    "from matplotlib import pyplot as plt\n",
    "import seaborn as sns\n",
    "%matplotlib inline  "
   ]
  },
  {
   "cell_type": "code",
   "execution_count": 2,
   "metadata": {},
   "outputs": [],
   "source": [
    "df_08 = pd.read_csv(\"data_08.csv\")\n",
    "df_18 = pd.read_csv(\"data_18.csv\")"
   ]
  },
  {
   "cell_type": "code",
   "execution_count": 3,
   "metadata": {},
   "outputs": [
    {
     "data": {
      "text/plain": [
       "(986, 13)"
      ]
     },
     "execution_count": 3,
     "metadata": {},
     "output_type": "execute_result"
    }
   ],
   "source": [
    "df_18.shape"
   ]
  },
  {
   "cell_type": "code",
   "execution_count": 4,
   "metadata": {},
   "outputs": [
    {
     "data": {
      "text/plain": [
       "(794, 13)"
      ]
     },
     "execution_count": 4,
     "metadata": {},
     "output_type": "execute_result"
    }
   ],
   "source": [
    "df_18.shape"
   ]
  },
  {
   "cell_type": "code",
   "execution_count": 5,
   "metadata": {},
   "outputs": [
    {
     "data": {
      "text/plain": [
       "0      6.0\n",
       "1      6.0\n",
       "2      4.0\n",
       "3      6.0\n",
       "4      6.0\n",
       "5      6.0\n",
       "6      6.0\n",
       "7      4.0\n",
       "8      6.0\n",
       "9      4.0\n",
       "10     4.0\n",
       "11     4.0\n",
       "12     4.0\n",
       "13     4.0\n",
       "14     4.0\n",
       "15     4.0\n",
       "16     4.0\n",
       "17     4.0\n",
       "18     4.0\n",
       "19     4.0\n",
       "20     4.0\n",
       "21     4.0\n",
       "22     6.0\n",
       "23     6.0\n",
       "24     6.0\n",
       "25     4.0\n",
       "26     4.0\n",
       "27     4.0\n",
       "28     4.0\n",
       "29     6.0\n",
       "      ... \n",
       "764    6.0\n",
       "765    4.0\n",
       "766    4.0\n",
       "767    4.0\n",
       "768    4.0\n",
       "769    4.0\n",
       "770    4.0\n",
       "771    4.0\n",
       "772    4.0\n",
       "773    4.0\n",
       "774    4.0\n",
       "775    4.0\n",
       "776    4.0\n",
       "777    4.0\n",
       "778    4.0\n",
       "779    4.0\n",
       "780    4.0\n",
       "781    4.0\n",
       "782    4.0\n",
       "783    4.0\n",
       "784    4.0\n",
       "785    4.0\n",
       "786    4.0\n",
       "787    4.0\n",
       "788    4.0\n",
       "789    4.0\n",
       "790    4.0\n",
       "791    4.0\n",
       "792    4.0\n",
       "793    4.0\n",
       "Name: cyl, Length: 794, dtype: float64"
      ]
     },
     "execution_count": 5,
     "metadata": {},
     "output_type": "execute_result"
    }
   ],
   "source": [
    "df_18.cyl"
   ]
  },
  {
   "cell_type": "code",
   "execution_count": 6,
   "metadata": {},
   "outputs": [
    {
     "data": {
      "text/plain": [
       "0       (6 cyl)\n",
       "1       (4 cyl)\n",
       "2       (6 cyl)\n",
       "3       (6 cyl)\n",
       "4       (6 cyl)\n",
       "5       (6 cyl)\n",
       "6       (4 cyl)\n",
       "7       (4 cyl)\n",
       "8      (12 cyl)\n",
       "9      (12 cyl)\n",
       "10     (12 cyl)\n",
       "11     (12 cyl)\n",
       "12      (8 cyl)\n",
       "13      (8 cyl)\n",
       "14      (4 cyl)\n",
       "15      (4 cyl)\n",
       "16      (6 cyl)\n",
       "17      (4 cyl)\n",
       "18      (6 cyl)\n",
       "19      (6 cyl)\n",
       "20      (6 cyl)\n",
       "21      (6 cyl)\n",
       "22      (6 cyl)\n",
       "23      (6 cyl)\n",
       "24      (6 cyl)\n",
       "25      (6 cyl)\n",
       "26      (8 cyl)\n",
       "27      (6 cyl)\n",
       "28      (8 cyl)\n",
       "29      (8 cyl)\n",
       "         ...   \n",
       "956     (5 cyl)\n",
       "957     (5 cyl)\n",
       "958     (5 cyl)\n",
       "959     (5 cyl)\n",
       "960     (5 cyl)\n",
       "961     (5 cyl)\n",
       "962     (5 cyl)\n",
       "963     (5 cyl)\n",
       "964     (5 cyl)\n",
       "965     (5 cyl)\n",
       "966     (5 cyl)\n",
       "967     (5 cyl)\n",
       "968     (5 cyl)\n",
       "969     (5 cyl)\n",
       "970     (6 cyl)\n",
       "971     (6 cyl)\n",
       "972     (6 cyl)\n",
       "973     (8 cyl)\n",
       "974     (5 cyl)\n",
       "975     (5 cyl)\n",
       "976     (5 cyl)\n",
       "977     (5 cyl)\n",
       "978     (5 cyl)\n",
       "979     (5 cyl)\n",
       "980     (5 cyl)\n",
       "981     (6 cyl)\n",
       "982     (6 cyl)\n",
       "983     (6 cyl)\n",
       "984     (6 cyl)\n",
       "985     (8 cyl)\n",
       "Name: cyl, Length: 986, dtype: object"
      ]
     },
     "execution_count": 6,
     "metadata": {},
     "output_type": "execute_result"
    }
   ],
   "source": [
    "df_08.cyl"
   ]
  },
  {
   "cell_type": "code",
   "execution_count": 19,
   "metadata": {},
   "outputs": [
    {
     "data": {
      "text/plain": [
       "0      4\n",
       "1      5\n",
       "2      5\n",
       "3      6\n",
       "4      6\n",
       "5      6\n",
       "6      6\n",
       "7      7\n",
       "8      0\n",
       "9      1\n",
       "10     0\n",
       "11     1\n",
       "12     3\n",
       "13     3\n",
       "14     7\n",
       "15     7\n",
       "16     6\n",
       "17     7\n",
       "18     5\n",
       "19     6\n",
       "20     6\n",
       "21     5\n",
       "22     6\n",
       "23     6\n",
       "24     6\n",
       "25     6\n",
       "26     5\n",
       "27     6\n",
       "28     5\n",
       "29     5\n",
       "      ..\n",
       "956    6\n",
       "957    7\n",
       "958    7\n",
       "959    7\n",
       "960    6\n",
       "961    6\n",
       "962    6\n",
       "963    7\n",
       "964    6\n",
       "965    6\n",
       "966    6\n",
       "967    6\n",
       "968    6\n",
       "969    6\n",
       "970    5\n",
       "971    5\n",
       "972    5\n",
       "973    5\n",
       "974    7\n",
       "975    7\n",
       "976    7\n",
       "977    6\n",
       "978    6\n",
       "979    6\n",
       "980    7\n",
       "981    5\n",
       "982    4\n",
       "983    4\n",
       "984    4\n",
       "985    3\n",
       "Name: greenhouse_gas_score, Length: 986, dtype: object"
      ]
     },
     "execution_count": 19,
     "metadata": {},
     "output_type": "execute_result"
    }
   ],
   "source": [
    "df_08.greenhouse_gas_score"
   ]
  },
  {
   "cell_type": "code",
   "execution_count": 13,
   "metadata": {},
   "outputs": [
    {
     "name": "stdout",
     "output_type": "stream",
     "text": [
      "<class 'pandas.core.frame.DataFrame'>\n",
      "RangeIndex: 986 entries, 0 to 985\n",
      "Data columns (total 13 columns):\n",
      "model                   986 non-null object\n",
      "displ                   986 non-null float64\n",
      "cyl                     986 non-null object\n",
      "trans                   986 non-null object\n",
      "drive                   986 non-null object\n",
      "fuel                    986 non-null object\n",
      "veh_class               986 non-null object\n",
      "air_pollution_score     986 non-null object\n",
      "city_mpg                986 non-null object\n",
      "hwy_mpg                 986 non-null object\n",
      "cmb_mpg                 986 non-null object\n",
      "greenhouse_gas_score    986 non-null object\n",
      "smartway                986 non-null object\n",
      "dtypes: float64(1), object(12)\n",
      "memory usage: 100.2+ KB\n"
     ]
    }
   ],
   "source": [
    "df_08.info()"
   ]
  },
  {
   "cell_type": "code",
   "execution_count": 9,
   "metadata": {},
   "outputs": [
    {
     "name": "stdout",
     "output_type": "stream",
     "text": [
      "<class 'pandas.core.frame.DataFrame'>\n",
      "RangeIndex: 794 entries, 0 to 793\n",
      "Data columns (total 13 columns):\n",
      "model                   794 non-null object\n",
      "displ                   794 non-null float64\n",
      "cyl                     794 non-null float64\n",
      "trans                   794 non-null object\n",
      "drive                   794 non-null object\n",
      "fuel                    794 non-null object\n",
      "veh_class               794 non-null object\n",
      "air_pollution_score     794 non-null int64\n",
      "city_mpg                794 non-null object\n",
      "hwy_mpg                 794 non-null object\n",
      "cmb_mpg                 794 non-null object\n",
      "greenhouse_gas_score    794 non-null int64\n",
      "smartway                794 non-null object\n",
      "dtypes: float64(2), int64(2), object(9)\n",
      "memory usage: 80.7+ KB\n"
     ]
    }
   ],
   "source": [
    "df_18.info()"
   ]
  },
  {
   "cell_type": "code",
   "execution_count": 10,
   "metadata": {},
   "outputs": [
    {
     "name": "stdout",
     "output_type": "stream",
     "text": [
      "<class 'pandas.core.frame.DataFrame'>\n",
      "RangeIndex: 986 entries, 0 to 985\n",
      "Data columns (total 13 columns):\n",
      "model                   986 non-null object\n",
      "displ                   986 non-null float64\n",
      "cyl                     986 non-null object\n",
      "trans                   986 non-null object\n",
      "drive                   986 non-null object\n",
      "fuel                    986 non-null object\n",
      "veh_class               986 non-null object\n",
      "air_pollution_score     986 non-null object\n",
      "city_mpg                986 non-null object\n",
      "hwy_mpg                 986 non-null object\n",
      "cmb_mpg                 986 non-null object\n",
      "greenhouse_gas_score    986 non-null object\n",
      "smartway                986 non-null object\n",
      "dtypes: float64(1), object(12)\n",
      "memory usage: 100.2+ KB\n"
     ]
    }
   ],
   "source": [
    "df_08.info()"
   ]
  },
  {
   "cell_type": "code",
   "execution_count": null,
   "metadata": {},
   "outputs": [],
   "source": []
  }
 ],
 "metadata": {
  "kernelspec": {
   "display_name": "Python 3",
   "language": "python",
   "name": "python3"
  },
  "language_info": {
   "codemirror_mode": {
    "name": "ipython",
    "version": 3
   },
   "file_extension": ".py",
   "mimetype": "text/x-python",
   "name": "python",
   "nbconvert_exporter": "python",
   "pygments_lexer": "ipython3",
   "version": "3.6.3"
  }
 },
 "nbformat": 4,
 "nbformat_minor": 2
}
